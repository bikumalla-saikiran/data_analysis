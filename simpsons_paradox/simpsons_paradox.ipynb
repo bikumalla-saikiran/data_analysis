{
 "cells": [
  {
   "cell_type": "markdown",
   "metadata": {
    "collapsed": true
   },
   "source": [
    "# Simpson's Paradox\n",
    "\n",
    "> Simpson's paradox occurs when groups of data show one particular trend, but this trend is reversed when the groups are combined together. Understanding and identifying this paradox is important for correctly interpreting data."
   ]
  },
  {
   "cell_type": "code",
   "execution_count": 1,
   "metadata": {},
   "outputs": [
    {
     "data": {
      "text/html": [
       "<div>\n",
       "<style scoped>\n",
       "    .dataframe tbody tr th:only-of-type {\n",
       "        vertical-align: middle;\n",
       "    }\n",
       "\n",
       "    .dataframe tbody tr th {\n",
       "        vertical-align: top;\n",
       "    }\n",
       "\n",
       "    .dataframe thead th {\n",
       "        text-align: right;\n",
       "    }\n",
       "</style>\n",
       "<table border=\"1\" class=\"dataframe\">\n",
       "  <thead>\n",
       "    <tr style=\"text-align: right;\">\n",
       "      <th></th>\n",
       "      <th>student_id</th>\n",
       "      <th>gender</th>\n",
       "      <th>major</th>\n",
       "      <th>admitted</th>\n",
       "    </tr>\n",
       "  </thead>\n",
       "  <tbody>\n",
       "    <tr>\n",
       "      <th>0</th>\n",
       "      <td>35377</td>\n",
       "      <td>female</td>\n",
       "      <td>Chemistry</td>\n",
       "      <td>False</td>\n",
       "    </tr>\n",
       "    <tr>\n",
       "      <th>1</th>\n",
       "      <td>56105</td>\n",
       "      <td>male</td>\n",
       "      <td>Physics</td>\n",
       "      <td>True</td>\n",
       "    </tr>\n",
       "    <tr>\n",
       "      <th>2</th>\n",
       "      <td>31441</td>\n",
       "      <td>female</td>\n",
       "      <td>Chemistry</td>\n",
       "      <td>False</td>\n",
       "    </tr>\n",
       "    <tr>\n",
       "      <th>3</th>\n",
       "      <td>51765</td>\n",
       "      <td>male</td>\n",
       "      <td>Physics</td>\n",
       "      <td>True</td>\n",
       "    </tr>\n",
       "    <tr>\n",
       "      <th>4</th>\n",
       "      <td>53714</td>\n",
       "      <td>female</td>\n",
       "      <td>Physics</td>\n",
       "      <td>True</td>\n",
       "    </tr>\n",
       "  </tbody>\n",
       "</table>\n",
       "</div>"
      ],
      "text/plain": [
       "   student_id  gender      major  admitted\n",
       "0       35377  female  Chemistry     False\n",
       "1       56105    male    Physics      True\n",
       "2       31441  female  Chemistry     False\n",
       "3       51765    male    Physics      True\n",
       "4       53714  female    Physics      True"
      ]
     },
     "execution_count": 1,
     "metadata": {},
     "output_type": "execute_result"
    }
   ],
   "source": [
    "# Load and view first few lines of dataset\n",
    "import pandas as pd\n",
    "df = pd.read_csv('datasets/admission_data.csv')\n",
    "df.head()"
   ]
  },
  {
   "cell_type": "markdown",
   "metadata": {},
   "source": [
    "### Proportion and admission rate for each gender"
   ]
  },
  {
   "cell_type": "code",
   "execution_count": 2,
   "metadata": {},
   "outputs": [
    {
     "data": {
      "text/plain": [
       "0.514"
      ]
     },
     "execution_count": 2,
     "metadata": {},
     "output_type": "execute_result"
    }
   ],
   "source": [
    "# Proportion of students that are female\n",
    "total = df['student_id'].count()\n",
    "female = df.query(\"gender == 'female'\")\n",
    "female_count = female['gender'].count()\n",
    "female_prop = female_count/total\n",
    "female_prop"
   ]
  },
  {
   "cell_type": "code",
   "execution_count": 3,
   "metadata": {},
   "outputs": [
    {
     "data": {
      "text/plain": [
       "0.486"
      ]
     },
     "execution_count": 3,
     "metadata": {},
     "output_type": "execute_result"
    }
   ],
   "source": [
    "# Proportion of students that are male\n",
    "total = df['student_id'].count()\n",
    "male = df.query(\"gender == 'male'\")\n",
    "male_count = male['gender'].count()\n",
    "male_prop = male_count/total\n",
    "male_prop"
   ]
  },
  {
   "cell_type": "code",
   "execution_count": 4,
   "metadata": {},
   "outputs": [
    {
     "data": {
      "text/plain": [
       "0.28793774319066145"
      ]
     },
     "execution_count": 4,
     "metadata": {},
     "output_type": "execute_result"
    }
   ],
   "source": [
    "# Admission rate for females\n",
    "female_admitted = female[female['admitted']==True]\n",
    "female_admitted_count = female_admitted['gender'].count()\n",
    "female_admit_rate = female_admitted_count/female_count\n",
    "female_admit_rate"
   ]
  },
  {
   "cell_type": "code",
   "execution_count": 5,
   "metadata": {},
   "outputs": [
    {
     "data": {
      "text/plain": [
       "0.48559670781893005"
      ]
     },
     "execution_count": 5,
     "metadata": {},
     "output_type": "execute_result"
    }
   ],
   "source": [
    "# Admission rate for males\n",
    "male_admitted = male[male['admitted']==True]\n",
    "male_admitted_count = male_admitted['gender'].count()\n",
    "male_admit_rate = male_admitted_count/male_count\n",
    "male_admit_rate"
   ]
  },
  {
   "cell_type": "markdown",
   "metadata": {},
   "source": [
    "### Proportion and admission rate for physics majors of each gender"
   ]
  },
  {
   "cell_type": "code",
   "execution_count": 6,
   "metadata": {},
   "outputs": [
    {
     "data": {
      "text/plain": [
       "0.12062256809338522"
      ]
     },
     "execution_count": 6,
     "metadata": {},
     "output_type": "execute_result"
    }
   ],
   "source": [
    "# What proportion of female students are majoring in physics?\n",
    "female_physics = female.query(\"major=='Physics'\")\n",
    "female_physics_count = female_physics['gender'].count()\n",
    "female_physics_prop = female_physics_count/female_count\n",
    "female_physics_prop"
   ]
  },
  {
   "cell_type": "code",
   "execution_count": 7,
   "metadata": {},
   "outputs": [
    {
     "data": {
      "text/plain": [
       "0.9259259259259259"
      ]
     },
     "execution_count": 7,
     "metadata": {},
     "output_type": "execute_result"
    }
   ],
   "source": [
    "# What proportion of male students are majoring in physics?\n",
    "male_physics = male.query(\"major=='Physics'\")\n",
    "male_physics_count = male_physics['gender'].count()\n",
    "male_physics_prop = male_physics_count/male_count\n",
    "male_physics_prop"
   ]
  },
  {
   "cell_type": "code",
   "execution_count": 8,
   "metadata": {},
   "outputs": [
    {
     "data": {
      "text/plain": [
       "0.7419354838709677"
      ]
     },
     "execution_count": 8,
     "metadata": {},
     "output_type": "execute_result"
    }
   ],
   "source": [
    "# Admission rate for female physics majors\n",
    "female_physics_admit = female_physics.query(\"admitted\")['gender'].count()\n",
    "female_physics_admit_rate = female_physics_admit/female_physics_count\n",
    "female_physics_admit_rate"
   ]
  },
  {
   "cell_type": "code",
   "execution_count": 9,
   "metadata": {},
   "outputs": [
    {
     "data": {
      "text/plain": [
       "0.5155555555555555"
      ]
     },
     "execution_count": 9,
     "metadata": {},
     "output_type": "execute_result"
    }
   ],
   "source": [
    "# Admission rate for male physics majors\n",
    "male_physics_admit = male_physics.query(\"admitted\")['gender'].count()\n",
    "male_physics_admit_rate = male_physics_admit/male_physics_count\n",
    "male_physics_admit_rate"
   ]
  },
  {
   "cell_type": "markdown",
   "metadata": {},
   "source": [
    "### Proportion and admission rate for chemistry majors of each gender"
   ]
  },
  {
   "cell_type": "code",
   "execution_count": 10,
   "metadata": {},
   "outputs": [
    {
     "data": {
      "text/plain": [
       "0.8793774319066148"
      ]
     },
     "execution_count": 10,
     "metadata": {},
     "output_type": "execute_result"
    }
   ],
   "source": [
    "# What proportion of female students are majoring in chemistry?\n",
    "female_chemistry = female.query(\"major=='Chemistry'\")\n",
    "female_chemistry_count = female_chemistry['gender'].count()\n",
    "female_chemistry_prop = female_chemistry_count/female_count\n",
    "female_chemistry_prop"
   ]
  },
  {
   "cell_type": "code",
   "execution_count": 11,
   "metadata": {},
   "outputs": [
    {
     "data": {
      "text/plain": [
       "0.07407407407407407"
      ]
     },
     "execution_count": 11,
     "metadata": {},
     "output_type": "execute_result"
    }
   ],
   "source": [
    "# What proportion of male students are majoring in chemistry?\n",
    "male_chemistry = male.query(\"major=='Chemistry'\")\n",
    "male_chemistry_count = male_chemistry['gender'].count()\n",
    "male_chemistry_prop = male_chemistry_count/male_count\n",
    "male_chemistry_prop"
   ]
  },
  {
   "cell_type": "code",
   "execution_count": 12,
   "metadata": {},
   "outputs": [
    {
     "data": {
      "text/plain": [
       "0.22566371681415928"
      ]
     },
     "execution_count": 12,
     "metadata": {},
     "output_type": "execute_result"
    }
   ],
   "source": [
    "# Admission rate for female chemistry majors\n",
    "female_chemistry_admit = female_chemistry.query(\"admitted\")['gender'].count()\n",
    "female_chemistry_admit_rate = female_chemistry_admit/female_chemistry_count\n",
    "female_chemistry_admit_rate"
   ]
  },
  {
   "cell_type": "code",
   "execution_count": 13,
   "metadata": {},
   "outputs": [
    {
     "data": {
      "text/plain": [
       "0.1111111111111111"
      ]
     },
     "execution_count": 13,
     "metadata": {},
     "output_type": "execute_result"
    }
   ],
   "source": [
    "# Admission rate for male chemistry majors\n",
    "male_chemistry_admit = male_chemistry.query(\"admitted\")['gender'].count()\n",
    "male_chemistry_admit_rate = male_chemistry_admit/male_chemistry_count\n",
    "male_chemistry_admit_rate"
   ]
  },
  {
   "cell_type": "markdown",
   "metadata": {},
   "source": [
    "### Admission rate for each major"
   ]
  },
  {
   "cell_type": "code",
   "execution_count": 14,
   "metadata": {},
   "outputs": [
    {
     "data": {
      "text/plain": [
       "0.54296875"
      ]
     },
     "execution_count": 14,
     "metadata": {},
     "output_type": "execute_result"
    }
   ],
   "source": [
    "# Admission rate for physics majors\n",
    "physics_count = len(df[(df['major'] == 'Physics')])\n",
    "physics_admit = len(df[(df['major'] == 'Physics') & df['admitted']]) \n",
    "physics_admit_rate = physics_admit/physics_count\n",
    "physics_admit_rate"
   ]
  },
  {
   "cell_type": "code",
   "execution_count": 15,
   "metadata": {},
   "outputs": [
    {
     "data": {
      "text/plain": [
       "0.21721311475409835"
      ]
     },
     "execution_count": 15,
     "metadata": {},
     "output_type": "execute_result"
    }
   ],
   "source": [
    "# Admission rate for chemistry majors\n",
    "chemistry_count = len(df[(df['major'] == 'Chemistry')])\n",
    "chemistry_admit = len(df[(df['major'] == 'Chemistry') & df['admitted']]) \n",
    "chemistry_admit_rate = chemistry_admit/chemistry_count\n",
    "chemistry_admit_rate"
   ]
  },
  {
   "cell_type": "markdown",
   "metadata": {},
   "source": [
    "> when we compare the rate of admissions by only looking at gender and admission rates we concluded that males are favored/biased in the admission process. But when we compare the admission rates according to the major it is observed that females admission rate is higher than male admission rate in both the majors, by which we can conclude that females are biased in the admission process. When we change the view of grouping the data we got different conclusions, this paradox is called simpson's paradox.\n"
   ]
  },
  {
   "cell_type": "markdown",
   "metadata": {},
   "source": [
    "# Conclusion and Findings"
   ]
  },
  {
   "cell_type": "markdown",
   "metadata": {},
   "source": [
    "From the above calculations and statistics it may analysed and tabulated as:\n",
    "\n",
    "| Major     \t|    *   \t| Male     \t| *      \t|   *    \t| female   \t| *      \t|\n",
    "|-----------\t|-------\t|----------\t|-------\t|-------\t|----------\t|-------\t|\n",
    "|    *       \t| Total \t| Admitted \t| Rate  \t| Total \t| Admitted \t| Rate  \t|\n",
    "| Physics   \t| 225   \t| 116      \t| 51.6% \t| 31    \t| 23       \t| 74.2% \t|\n",
    "| Chemistry \t| 18    \t| 2        \t| 11.1% \t| 226   \t| 51       \t| 22.6% \t|\n"
   ]
  },
  {
   "cell_type": "markdown",
   "metadata": {},
   "source": [
    "From the above table if we compare the rate of admission of male physics majors with rate of admission of female physics majors the female rate is high and even the female admission rate is high for Chemistry major. Hence we can conclude that the **`female admissions are biased/favored.`**"
   ]
  },
  {
   "cell_type": "markdown",
   "metadata": {},
   "source": [
    "Now lets look at the same table but in different approach: \n",
    "\n",
    "\n",
    "| Major     \t|    *   \t| Male     \t| *      \t|   *    \t| female   \t| *      \t|\n",
    "|-----------\t|-------\t|----------\t|-------\t|-------\t|----------\t|-------\t|\n",
    "|    *       \t| Total \t| Admitted \t| Rate  \t| Total \t| Admitted \t| Rate  \t|\n",
    "|-----------\t|-------\t|----------\t|-------\t|-------\t|----------\t|-------\t|\n",
    "| Physics   \t| 225   \t| 116      \t| 51.6% \t| 31    \t| 23       \t| 74.2% \t|\n",
    "| Chemistry \t| 18    \t| 2        \t| 11.1% \t| 226   \t| 51       \t| 22.6% \t|\n",
    "|-----------\t|-------\t|----------\t|-------\t|-------\t|----------\t|-------\t|\n",
    "|*              |243        |   118     |48.6%      |   257     |   74      | 28.8%     |"
   ]
  },
  {
   "cell_type": "markdown",
   "metadata": {},
   "source": [
    "- Total number of male applications are 243 out of which 118 are admitted which means 48.6% is the male admission rate overall.\n",
    "- Total number of female applications are 257 out of which 74 are admitted which means 28.8% is the female admission rate overall.\n"
   ]
  },
  {
   "cell_type": "markdown",
   "metadata": {},
   "source": [
    "Hence we can conclude that the **`male admissions are favored/biased`**"
   ]
  },
  {
   "cell_type": "markdown",
   "metadata": {},
   "source": [
    "This kind of paradox is referred to as **`Simpson's paradox`**"
   ]
  }
 ],
 "metadata": {
  "kernelspec": {
   "display_name": "Python 3",
   "language": "python",
   "name": "python3"
  },
  "language_info": {
   "codemirror_mode": {
    "name": "ipython",
    "version": 3
   },
   "file_extension": ".py",
   "mimetype": "text/x-python",
   "name": "python",
   "nbconvert_exporter": "python",
   "pygments_lexer": "ipython3",
   "version": "3.7.3"
  }
 },
 "nbformat": 4,
 "nbformat_minor": 2
}
